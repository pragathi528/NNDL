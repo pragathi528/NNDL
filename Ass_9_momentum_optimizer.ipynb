{
  "nbformat": 4,
  "nbformat_minor": 0,
  "metadata": {
    "colab": {
      "name": "Ass-9 momentum optimizer.ipynb",
      "provenance": [],
      "mount_file_id": "1zjNFgxM0jV14JUD7KSj3ySb7n2iMhfRJ",
      "authorship_tag": "ABX9TyPXcamgcs4dTVFb381YFl7r",
      "include_colab_link": true
    },
    "kernelspec": {
      "name": "python3",
      "display_name": "Python 3"
    },
    "language_info": {
      "name": "python"
    }
  },
  "cells": [
    {
      "cell_type": "markdown",
      "metadata": {
        "id": "view-in-github",
        "colab_type": "text"
      },
      "source": [
        "<a href=\"https://colab.research.google.com/github/pragathi528/NNDL/blob/main/Ass_9_momentum_optimizer.ipynb\" target=\"_parent\"><img src=\"https://colab.research.google.com/assets/colab-badge.svg\" alt=\"Open In Colab\"/></a>"
      ]
    },
    {
      "cell_type": "code",
      "metadata": {
        "colab": {
          "base_uri": "https://localhost:8080/"
        },
        "id": "43wMvpK1quYj",
        "outputId": "1ce626c1-8751-40f4-d7ff-d1a8deec0c05"
      },
      "source": [
        "#importing libraries and loading data\n",
        "import pandas as pd\n",
        "import numpy as np\n",
        "import matplotlib.pyplot as plt\n",
        "from numpy import random\n",
        "from sklearn.model_selection import train_test_split\n",
        "data=pd.read_csv('/content/drive/MyDrive/sample.csv')\n",
        "print(data)"
      ],
      "execution_count": null,
      "outputs": [
        {
          "output_type": "stream",
          "text": [
            "   sample    x    y\n",
            "0       1  0.2  3.4\n",
            "1       2  0.4  3.8\n",
            "2       3  0.6  4.2\n",
            "3       4  0.8  4.6\n"
          ],
          "name": "stdout"
        }
      ]
    },
    {
      "cell_type": "code",
      "metadata": {
        "colab": {
          "base_uri": "https://localhost:8080/",
          "height": 299
        },
        "id": "HxJkVlgOrHpa",
        "outputId": "5901950c-60ac-47de-b5eb-87b17a7acdaf"
      },
      "source": [
        "#splitting of data\n",
        "x = np.array(data.iloc[:, 0])\n",
        "y = np.array(data.iloc[:, 1])\n",
        "plt.scatter(x, y)\n",
        "plt.show()\n",
        "x_train,x_test,y_train,y_test=train_test_split(x,y,test_size=0.3)\n",
        "print('size of train_data:',len(x_train))\n",
        "print('size of test_data:',len(x_test))"
      ],
      "execution_count": null,
      "outputs": [
        {
          "output_type": "display_data",
          "data": {
            "image/png": "[encoded data removed]",
            "text/plain": [
              "<Figure size 432x288 with 1 Axes>"
            ]
          },
          "metadata": {
            "tags": [],
            "needs_background": "light"
          }
        },
        {
          "output_type": "stream",
          "text": [
            "size of train_data: 2\n",
            "size of test_data: 2\n"
          ],
          "name": "stdout"
        }
      ]
    },
    {
      "cell_type": "code",
      "metadata": {
        "colab": {
          "base_uri": "https://localhost:8080/"
        },
        "id": "8-5177rbrSLC",
        "outputId": "3f25d285-0e79-422b-8b7b-4069f6d818ed"
      },
      "source": [
        "m=1#random.randint(0,6)\n",
        "print('m=',m)\n",
        "c=-1#random.randint(-2,6)\n",
        "print('c=',c)\n",
        "l=0.1\n",
        "epoch=100\n",
        "g=0.9\n",
        "v_m=0\n",
        "v_c=0\n",
        "for i in range(epoch):\n",
        "  for j in range(len(x_train)):\n",
        "    del_m=(-1)*(y_train[j]-m*x_train[j]-c)*x_train[j]\n",
        "    del_c=(-1)*(y_train[j]-m*x_train[j]-c)\n",
        "    v_m=g*v_m-(l*del_m)\n",
        "    v_c=g*v_c-(l*del_c)\n",
        "    m=m+v_m;\n",
        "    c=c+v_c;\n",
        "      \n",
        "print(\"Updated m =\",m)\n",
        "print(\"Updated c =\",c)"
      ],
      "execution_count": null,
      "outputs": [
        {
          "output_type": "stream",
          "text": [
            "m= 1\n",
            "c= -1\n",
            "Updated m = 0.20002485409344375\n",
            "Updated c = -3.1814933453369584e-05\n"
          ],
          "name": "stdout"
        }
      ]
    },
    {
      "cell_type": "code",
      "metadata": {
        "colab": {
          "base_uri": "https://localhost:8080/",
          "height": 281
        },
        "id": "gV3EAALsr1gE",
        "outputId": "a71abf09-e098-4cde-865c-d87e96ddf257"
      },
      "source": [
        "#making pridiction \n",
        "Y_pred = m*x + c\n",
        "plt.scatter(x, y)\n",
        "plt.plot([min(x), max(x)], [min(Y_pred), max(Y_pred)], color='black') # predicted\n",
        "plt.title('predicted value vs actual value')\n",
        "plt.show()"
      ],
      "execution_count": null,
      "outputs": [
        {
          "output_type": "display_data",
          "data": {
            "image/png": "[encoded data removed]",
            "text/plain": [
              "<Figure size 432x288 with 1 Axes>"
            ]
          },
          "metadata": {
            "tags": [],
            "needs_background": "light"
          }
        }
      ]
    },
    {
      "cell_type": "code",
      "metadata": {
        "colab": {
          "base_uri": "https://localhost:8080/"
        },
        "id": "D1MLBZ-Lr7fs",
        "outputId": "979b0b0b-bd01-4d76-ffa4-40e2a2f16dd8"
      },
      "source": [
        "#mean square error of train and test data\n",
        "mse=0;\n",
        "for i in range(len(x_train)):\n",
        "  mse=mse+((y_train[i]-(m*x_train[i]+c))**2)\n",
        "mse_train=mse/len(x_train);\n",
        "for i in range(len(x_test)):\n",
        "  mse=mse+((y_test[i]-(m*x_test[i]+c))**2)\n",
        "mse_test=mse/len(x_test);\n",
        "print('Mean Square Error Of Training Data:',mse_train)\n",
        "print('Mean Square Error Of Testing Data:',mse_test)"
      ],
      "execution_count": null,
      "outputs": [
        {
          "output_type": "stream",
          "text": [
            "Mean Square Error Of Training Data: 1.0737520917792501e-09\n",
            "Mean Square Error Of Testing Data: 3.3829561053754213e-09\n"
          ],
          "name": "stdout"
        }
      ]
    }
  ]
}