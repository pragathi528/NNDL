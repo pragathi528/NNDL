{
  "nbformat": 4,
  "nbformat_minor": 0,
  "metadata": {
    "colab": {
      "name": "Ass-7 batch gradient descent optimizer.ipynb",
      "provenance": [],
      "mount_file_id": "1GV4TDPMi_3hx3XqVNbmeKxYM7FPgoyfJ",
      "authorship_tag": "ABX9TyNZojEkMgH2cu20HfaMTDpg",
      "include_colab_link": true
    },
    "kernelspec": {
      "name": "python3",
      "display_name": "Python 3"
    },
    "language_info": {
      "name": "python"
    }
  },
  "cells": [
    {
      "cell_type": "markdown",
      "metadata": {
        "id": "view-in-github",
        "colab_type": "text"
      },
      "source": [
        "<a href=\"https://colab.research.google.com/github/pragathi528/NNDL/blob/main/Ass_7_batch_gradient_descent_optimizer.ipynb\" target=\"_parent\"><img src=\"https://colab.research.google.com/assets/colab-badge.svg\" alt=\"Open In Colab\"/></a>"
      ]
    },
    {
      "cell_type": "code",
      "metadata": {
        "colab": {
          "base_uri": "https://localhost:8080/"
        },
        "id": "O9K2QHJzi1BD",
        "outputId": "fb6132dc-5f69-4930-9874-431acbc32894"
      },
      "source": [
        "import pandas as pd\n",
        "import numpy as np\n",
        "import matplotlib.pyplot as plt\n",
        "from numpy import random\n",
        "from sklearn.model_selection import train_test_split\n",
        "data=pd.read_csv('/content/drive/MyDrive/sample.csv')\n",
        "print(data)"
      ],
      "execution_count": null,
      "outputs": [
        {
          "output_type": "stream",
          "text": [
            "   sample    x    y\n",
            "0       1  0.2  3.4\n",
            "1       2  0.4  3.8\n",
            "2       3  0.6  4.2\n",
            "3       4  0.8  4.6\n"
          ],
          "name": "stdout"
        }
      ]
    },
    {
      "cell_type": "code",
      "metadata": {
        "colab": {
          "base_uri": "https://localhost:8080/",
          "height": 299
        },
        "id": "JYbOVMk7jVL-",
        "outputId": "c74dfc8d-167f-4ac4-e3e9-a58d98638907"
      },
      "source": [
        "#splitting of data\n",
        "x = np.array(data.iloc[:, 0])\n",
        "y = np.array(data.iloc[:, 1])\n",
        "plt.scatter(x, y)\n",
        "plt.show()\n",
        "x_train,x_test,y_train,y_test=train_test_split(x,y,test_size=0.3)\n",
        "print('size of train_data:',len(x_train))\n",
        "print('size of test_data:',len(x_test))"
      ],
      "execution_count": null,
      "outputs": [
        {
          "output_type": "display_data",
          "data": {
            "image/png": "[encoded data removed]",
            "text/plain": [
              "<Figure size 432x288 with 1 Axes>"
            ]
          },
          "metadata": {
            "tags": [],
            "needs_background": "light"
          }
        },
        {
          "output_type": "stream",
          "text": [
            "size of train_data: 2\n",
            "size of test_data: 2\n"
          ],
          "name": "stdout"
        }
      ]
    },
    {
      "cell_type": "code",
      "metadata": {
        "colab": {
          "base_uri": "https://localhost:8080/"
        },
        "id": "RoV2sz6WjkRo",
        "outputId": "12000033-824e-473e-9a34-4829d8443010"
      },
      "source": [
        "#caluclating model parameters by using BGD optimiser\n",
        "m=1\n",
        "c=-1\n",
        "def BGD_optimizer(x_train,y_train,m,c,l=0.1,epochs=100):\n",
        "  n=float(len(x_train))\n",
        "  for i in range(epochs): \n",
        "    Y_pred = m*x_train + c  # The current predicted value of Y\n",
        "    D_m = (-1/n) * sum(x_train * (y_train - Y_pred))  # Derivative wrt m\n",
        "    D_c = (-1/n) * sum(y_train - Y_pred)  # Derivative wrt c\n",
        "    m = m - l * D_m  # Update m\n",
        "    c = c - l * D_c  # Update c\n",
        "  return m,c\n",
        "m,c=BGD_optimizer(x_train,y_train,m,c)\n",
        "print(\"m =\",m)\n",
        "print(\"c =\",c)"
      ],
      "execution_count": null,
      "outputs": [
        {
          "output_type": "stream",
          "text": [
            "m = 0.2294161898599788\n",
            "c = -0.09715507522443687\n"
          ],
          "name": "stdout"
        }
      ]
    },
    {
      "cell_type": "code",
      "metadata": {
        "colab": {
          "base_uri": "https://localhost:8080/",
          "height": 281
        },
        "id": "YRcHis3Npwyg",
        "outputId": "2f01eed7-6ec3-4099-8907-4b49d484db2f"
      },
      "source": [
        "Y_pred = m*x + c\n",
        "plt.scatter(x, y)\n",
        "plt.plot([min(x), max(x)], [min(Y_pred), max(Y_pred)], color='black') # predicted\n",
        "plt.title('predicted value vs actual value')\n",
        "plt.show()"
      ],
      "execution_count": null,
      "outputs": [
        {
          "output_type": "display_data",
          "data": {
            "image/png": "[encoded data removed]",
            "text/plain": [
              "<Figure size 432x288 with 1 Axes>"
            ]
          },
          "metadata": {
            "tags": [],
            "needs_background": "light"
          }
        }
      ]
    },
    {
      "cell_type": "code",
      "metadata": {
        "colab": {
          "base_uri": "https://localhost:8080/"
        },
        "id": "__g7AmqCp9Dr",
        "outputId": "a0a63f44-9520-4ee9-e565-6d033f644ebb"
      },
      "source": [
        "#mean square error of train and test data\n",
        "mse=0;\n",
        "for i in range(len(x_train)):\n",
        "  mse=mse+((y_train[i]-(m*x_train[i]+c))**2)\n",
        "mse_train=mse/len(x_train)\n",
        "for i in range(len(x_test)):\n",
        "  mse=mse+((y_test[i]-(m*x_test[i]+c))**2)\n",
        "mse_test=mse/len(x_test)\n",
        "print('Mean Square Error Of Training Data:',mse_train)\n",
        "print('Mean Square Error Of Testing Data:',mse_test)"
      ],
      "execution_count": null,
      "outputs": [
        {
          "output_type": "stream",
          "text": [
            "Mean Square Error Of Training Data: 0.0025046018685189156\n",
            "Mean Square Error Of Testing Data: 0.0032785792852811947\n"
          ],
          "name": "stdout"
        }
      ]
    }
  ]
}