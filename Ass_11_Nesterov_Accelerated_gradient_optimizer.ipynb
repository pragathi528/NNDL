{
  "nbformat": 4,
  "nbformat_minor": 0,
  "metadata": {
    "colab": {
      "name": "Ass-11 Nesterov Accelerated gradient optimizer.ipynb",
      "provenance": [],
      "mount_file_id": "1VizpEf-Xu9hSTXZO-jq3XfjPHM_zJU_H",
      "authorship_tag": "ABX9TyPtR7XvL5KXrjIjsWW5Ok3L",
      "include_colab_link": true
    },
    "kernelspec": {
      "name": "python3",
      "display_name": "Python 3"
    },
    "language_info": {
      "name": "python"
    }
  },
  "cells": [
    {
      "cell_type": "markdown",
      "metadata": {
        "id": "view-in-github",
        "colab_type": "text"
      },
      "source": [
        "<a href=\"https://colab.research.google.com/github/pragathi528/NNDL/blob/main/Ass_11_Nesterov_Accelerated_gradient_optimizer.ipynb\" target=\"_parent\"><img src=\"https://colab.research.google.com/assets/colab-badge.svg\" alt=\"Open In Colab\"/></a>"
      ]
    },
    {
      "cell_type": "code",
      "metadata": {
        "colab": {
          "base_uri": "https://localhost:8080/"
        },
        "id": "0gMmfmFpsR1X",
        "outputId": "a4df4e8c-12f9-4519-c88b-69be26e91326"
      },
      "source": [
        "#importing libraries and loading data\n",
        "import pandas as pd\n",
        "import numpy as np\n",
        "import matplotlib.pyplot as plt\n",
        "from numpy import random\n",
        "from sklearn.model_selection import train_test_split\n",
        "data=pd.read_csv('/content/drive/MyDrive/sample.csv')\n",
        "print(data)"
      ],
      "execution_count": null,
      "outputs": [
        {
          "output_type": "stream",
          "text": [
            "   sample    x    y\n",
            "0       1  0.2  3.4\n",
            "1       2  0.4  3.8\n",
            "2       3  0.6  4.2\n",
            "3       4  0.8  4.6\n"
          ],
          "name": "stdout"
        }
      ]
    },
    {
      "cell_type": "code",
      "metadata": {
        "colab": {
          "base_uri": "https://localhost:8080/",
          "height": 299
        },
        "id": "DIQk6J8Tsu0l",
        "outputId": "058dfcf3-2c14-439c-b6e8-ec7a3a646b6e"
      },
      "source": [
        "#splitting of data\n",
        "x = np.array(data.iloc[:, 0])\n",
        "y = np.array(data.iloc[:, 1])\n",
        "plt.scatter(x, y)\n",
        "plt.show()\n",
        "x_train,x_test,y_train,y_test=train_test_split(x,y,test_size=0.3)\n",
        "print('size of train_data:',len(x_train))\n",
        "print('size of test_data:',len(x_test))"
      ],
      "execution_count": null,
      "outputs": [
        {
          "output_type": "display_data",
          "data": {
            "image/png": "[encoded data removed]",
            "text/plain": [
              "<Figure size 432x288 with 1 Axes>"
            ]
          },
          "metadata": {
            "tags": [],
            "needs_background": "light"
          }
        },
        {
          "output_type": "stream",
          "text": [
            "size of train_data: 2\n",
            "size of test_data: 2\n"
          ],
          "name": "stdout"
        }
      ]
    },
    {
      "cell_type": "code",
      "metadata": {
        "colab": {
          "base_uri": "https://localhost:8080/"
        },
        "id": "yoRsq2uZsyjO",
        "outputId": "b0540815-8468-41a8-815f-11975824a293"
      },
      "source": [
        "m=1#random.randint(0,6)\n",
        "print('m=',m)\n",
        "c=-1#random.randint(-2,6)\n",
        "print('c=',c)\n",
        "l=0.1\n",
        "epoch=100\n",
        "g=0.9\n",
        "v_m=0\n",
        "v_c=0\n",
        "for i in range(epoch):\n",
        "  for j in range(len(x_train)):\n",
        "    del_m=(-1)*(y_train[j]-(m+g*v_m)*x_train[j]-c-g*v_c)*x_train[j]\n",
        "    del_c=(-1)*(y_train[j]-(m+g*v_m)*x_train[j]-c-g*v_c)\n",
        "    v_m=g*v_m-(l*del_m)\n",
        "    v_c=g*v_c-(l*del_c)\n",
        "    m=m+v_m;\n",
        "    c=c+v_c;\n",
        "      \n",
        "print('Updated m =',m)\n",
        "print('Updated c =',c)"
      ],
      "execution_count": null,
      "outputs": [
        {
          "output_type": "stream",
          "text": [
            "m= 1\n",
            "c= -1\n",
            "Updated m = 0.19999150016682718\n",
            "Updated c = 1.4832155197204737e-05\n"
          ],
          "name": "stdout"
        }
      ]
    },
    {
      "cell_type": "code",
      "metadata": {
        "colab": {
          "base_uri": "https://localhost:8080/",
          "height": 281
        },
        "id": "5AYiwDTPtFTd",
        "outputId": "29f684fc-64f3-4889-9c0a-66c453b9a046"
      },
      "source": [
        "#making pridiction \n",
        "Y_pred = m*x + c\n",
        "plt.scatter(x, y)\n",
        "plt.plot([min(x), max(x)], [min(Y_pred), max(Y_pred)], color='black') # predicted\n",
        "plt.title('predicted value vs actual value')\n",
        "plt.show()"
      ],
      "execution_count": null,
      "outputs": [
        {
          "output_type": "display_data",
          "data": {
            "image/png": "[encoded data removed]",
            "text/plain": [
              "<Figure size 432x288 with 1 Axes>"
            ]
          },
          "metadata": {
            "tags": [],
            "needs_background": "light"
          }
        }
      ]
    },
    {
      "cell_type": "code",
      "metadata": {
        "colab": {
          "base_uri": "https://localhost:8080/"
        },
        "id": "h4bfP3WetMjI",
        "outputId": "7c34e828-2740-44ec-f193-6dd7c3f32133"
      },
      "source": [
        "#mean square error of train and test data\n",
        "mse=0;\n",
        "for i in range(len(x_train)):\n",
        "  mse=mse+((y_train[i]-(m*x_train[i]+c))**2)\n",
        "mse_train=mse/len(x_train);\n",
        "for i in range(len(x_test)):\n",
        "  mse=mse+((y_test[i]-(m*x_test[i]+c))**2)\n",
        "mse_test=mse/len(x_test);\n",
        "print('Mean Square Error Of Training Data:',mse_train)\n",
        "print('Mean Square Error Of Testing Data:',mse_test)"
      ],
      "execution_count": null,
      "outputs": [
        {
          "output_type": "stream",
          "text": [
            "Mean Square Error Of Training Data: 2.2398203399542832e-11\n",
            "Mean Square Error Of Testing Data: 2.6298466738083074e-10\n"
          ],
          "name": "stdout"
        }
      ]
    }
  ]
}