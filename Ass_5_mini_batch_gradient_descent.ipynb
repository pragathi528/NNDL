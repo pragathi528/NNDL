{
  "nbformat": 4,
  "nbformat_minor": 0,
  "metadata": {
    "colab": {
      "name": "Ass-5 mini batch gradient descent.ipynb",
      "provenance": [],
      "mount_file_id": "1H13hhY-4bH9pTo31jwasHvnh7lgWH--U",
      "authorship_tag": "ABX9TyNS9YwO1tphU2QTIms3tdYx",
      "include_colab_link": true
    },
    "kernelspec": {
      "name": "python3",
      "display_name": "Python 3"
    },
    "language_info": {
      "name": "python"
    }
  },
  "cells": [
    {
      "cell_type": "markdown",
      "metadata": {
        "id": "view-in-github",
        "colab_type": "text"
      },
      "source": [
        "<a href=\"https://colab.research.google.com/github/pragathi528/NNDL/blob/main/Ass_5_mini_batch_gradient_descent.ipynb\" target=\"_parent\"><img src=\"https://colab.research.google.com/assets/colab-badge.svg\" alt=\"Open In Colab\"/></a>"
      ]
    },
    {
      "cell_type": "code",
      "metadata": {
        "colab": {
          "base_uri": "https://localhost:8080/"
        },
        "id": "v-c0_Lr-hTGN",
        "outputId": "f5a3a074-139c-4a08-943f-84072a9fabc9"
      },
      "source": [
        "import pandas as pd\n",
        "import numpy as np\n",
        "import matplotlib.pyplot as plt\n",
        "from numpy import random\n",
        "from sklearn.model_selection import train_test_split\n",
        "df=pd.read_csv('/content/drive/MyDrive/sample.csv')\n",
        "print(df)\n",
        "x = np.array(df.iloc[:, 0])\n",
        "y = np.array(df.iloc[:, 1])"
      ],
      "execution_count": null,
      "outputs": [
        {
          "output_type": "stream",
          "text": [
            "   sample    x    y\n",
            "0       1  0.2  3.4\n",
            "1       2  0.4  3.8\n",
            "2       3  0.6  4.2\n",
            "3       4  0.8  4.6\n"
          ],
          "name": "stdout"
        }
      ]
    },
    {
      "cell_type": "code",
      "metadata": {
        "colab": {
          "base_uri": "https://localhost:8080/"
        },
        "id": "jcJOhTpHh5Hx",
        "outputId": "7091f9f4-3aa6-437f-8d43-42cc322d1ca5"
      },
      "source": [
        "bs=2\n",
        "m=1 \n",
        "c=-1  \n",
        "l=0.01      #Learning rate\n",
        "epochs=100#Maximum iterations\n",
        "ns=len(x)\n",
        "nb=ns//bs\n",
        "ms=ns%bs\n",
        "\n",
        "k=nb\n",
        "if(ms>0):\n",
        "  g_m=0\n",
        "  g_c=0\n",
        "  for j in range(0,ms):\n",
        "    ind=k*bs + j\n",
        "    g_m=g_m+((-1.0)*((y[ind]-m*x[ind]-c)*x[ind]))\n",
        "    g_c=g_c+((-1.0)*(y[ind]-m*x[ind]-c))\n",
        "  g_m = g_m/ms\n",
        "  g_c= g_c/ms\n",
        "  #find change in m , c\n",
        "  dm = (-1.0)*l*g_m\n",
        "  dc = (-1.0)*l*g_c\n",
        "  #update variable \n",
        "  m = m + dm \n",
        "  c = c + dc\n",
        "for i in range(epochs):\n",
        "  for k in range(nb):\n",
        "    g_m=0\n",
        "    g_c=0\n",
        "    for j in range(bs):\n",
        "      ind = k*bs + j\n",
        "      g_m = g_m+((-1.0)*((y[ind] - m*x[ind] -c)*x[ind]))\n",
        "      g_c = g_c+((-1.0)*(y[ind] - m*x[ind] -c))\n",
        "      g_m = g_m/bs\n",
        "      g_c = g_c/bs\n",
        "      #find change in m,c\n",
        "      dm = (-1.0)*l*g_m\n",
        "      dc = (-1.0)*l*g_c\n",
        "      #update variable \n",
        "      m = m + dm \n",
        "      c = c + dc\n",
        "#step7 print variable x1, y1\n",
        "m= round(m,2)\n",
        "c= round(c,2)\n",
        "print(\"m = \",m)\n",
        "print(\"c = \",c)"
      ],
      "execution_count": null,
      "outputs": [
        {
          "output_type": "stream",
          "text": [
            "m =  0.46\n",
            "c =  -0.77\n"
          ],
          "name": "stdout"
        }
      ]
    },
    {
      "cell_type": "code",
      "metadata": {
        "colab": {
          "base_uri": "https://localhost:8080/",
          "height": 281
        },
        "id": "gCe2jBHmiilZ",
        "outputId": "e3cc5e4f-333a-4b71-b1a6-5009a963831a"
      },
      "source": [
        "#making pridiction \n",
        "Y_pred = m*x + c\n",
        "plt.scatter(x, y)\n",
        "plt.plot([min(x), max(x)], [min(Y_pred), max(Y_pred)], color='black') # predicted\n",
        "plt.title('predicted value vs actual value')\n",
        "plt.show()"
      ],
      "execution_count": null,
      "outputs": [
        {
          "output_type": "display_data",
          "data": {
            "image/png": "[encoded data removed]",
            "text/plain": [
              "<Figure size 432x288 with 1 Axes>"
            ]
          },
          "metadata": {
            "tags": [],
            "needs_background": "light"
          }
        }
      ]
    },
    {
      "cell_type": "code",
      "metadata": {
        "id": "vtcGqDABiqdH",
        "colab": {
          "base_uri": "https://localhost:8080/"
        },
        "outputId": "7c7b1ecc-455d-4ba8-870a-256b8d7a1563"
      },
      "source": [
        "q=0\n",
        "for i in range(len(x)):\n",
        "  q += ((y[i]-(m*x[i]+c))**2)\n",
        "mse = q/len(x)\n",
        "print('mean square error =',mse)"
      ],
      "execution_count": null,
      "outputs": [
        {
          "output_type": "stream",
          "text": [
            "mean square error = 0.0989\n"
          ],
          "name": "stdout"
        }
      ]
    }
  ]
}